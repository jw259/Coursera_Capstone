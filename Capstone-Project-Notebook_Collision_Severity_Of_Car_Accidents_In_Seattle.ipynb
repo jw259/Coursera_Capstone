version https://git-lfs.github.com/spec/v1
oid sha256:b44c70fe014f81e114431b3b6c0edf240e57a523b7a531821d911b5d5859c17c
size 55957791
