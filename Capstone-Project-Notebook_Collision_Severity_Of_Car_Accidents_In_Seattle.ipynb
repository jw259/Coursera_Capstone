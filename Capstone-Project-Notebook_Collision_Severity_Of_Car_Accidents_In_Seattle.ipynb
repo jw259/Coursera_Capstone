version https://git-lfs.github.com/spec/v1
oid sha256:74a5d43c3f23a7771a23a9242ec05ddfcc816234f698a94b47e9eb1eff6d21da
size 55958136
