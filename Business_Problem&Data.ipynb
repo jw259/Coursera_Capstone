{
 "cells": [
  {
   "cell_type": "markdown",
   "metadata": {},
   "source": [
    "# Introduction/Business Problem"
   ]
  },
  {
   "cell_type": "markdown",
   "metadata": {},
   "source": [
    "The Business Problem to be solved with the Capstone project is focussing on the estimation of the severity of car accidents depending on the defined route. The outcome of this project is relevant to anyone travelling by car as it gives a approximation on the danger of taking a planned route and therefore accidents can be prevented beforehand. Reducing the number of car accident using this prediction offers a great benefit for society!"
   ]
  },
  {
   "cell_type": "markdown",
   "metadata": {},
   "source": [
    "# Data"
   ]
  },
  {
   "cell_type": "markdown",
   "metadata": {},
   "source": [
    "The data that is used for this project is the Data-Collisions csv file. It compounds data gathered from 194674 car accidents with 37 detailed information or attributes including the collision severity and other important information, which can be used to predict future danger and severity of car accidents. These features are namely:\n",
    "\n",
    "- Road & light condition information\n",
    "- Speeding information\n",
    "- Accident information\n",
    "- Address and geological information\n",
    "\n",
    "All these components finally lead to the dependent variable, which is the collision severity expressed as:\n",
    "\n",
    "- The collision severity code."
   ]
  },
  {
   "cell_type": "code",
   "execution_count": null,
   "metadata": {},
   "outputs": [],
   "source": []
  }
 ],
 "metadata": {
  "kernelspec": {
   "display_name": "Python 3",
   "language": "python",
   "name": "python3"
  },
  "language_info": {
   "codemirror_mode": {
    "name": "ipython",
    "version": 3
   },
   "file_extension": ".py",
   "mimetype": "text/x-python",
   "name": "python",
   "nbconvert_exporter": "python",
   "pygments_lexer": "ipython3",
   "version": "3.7.4"
  }
 },
 "nbformat": 4,
 "nbformat_minor": 4
}
