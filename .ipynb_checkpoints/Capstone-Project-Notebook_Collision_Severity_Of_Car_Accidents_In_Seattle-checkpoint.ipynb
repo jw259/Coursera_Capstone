version https://git-lfs.github.com/spec/v1
oid sha256:b2e901c66793bdc2a23198a865b8a87717a1f5cb0f36893ceadd52a4021db551
size 55957718
